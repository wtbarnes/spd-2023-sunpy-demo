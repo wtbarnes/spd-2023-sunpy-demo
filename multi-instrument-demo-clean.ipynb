{
 "cells": [
  {
   "cell_type": "markdown",
   "metadata": {
    "tags": []
   },
   "source": [
    "# Multi-instrument Data Analysis Workflows with the SunPy Ecosystem"
   ]
  },
  {
   "cell_type": "markdown",
   "metadata": {},
   "source": [
    "In this notebook, we'll look at how to use the SunPy Ecosystem to analyze data from multiple instruments, including SDO/AIA, EUI/HRI, EUI/FSI, SPICE, and the VISP instrument on DKIST.\n",
    "The goal is to show how the SunPy Ecosystem allows you to easily work with these disparate datasources using the same set of tools.\n",
    "The data we'll be looking is from 24 October 2022, close to the *Solar Orbiter* perihelion.\n",
    "During this period, DKIST was pointed to coincide with this perihelion."
   ]
  },
  {
   "cell_type": "code",
   "execution_count": null,
   "metadata": {
    "tags": []
   },
   "outputs": [],
   "source": [
    "import numpy as np\n",
    "import matplotlib.pyplot as plt\n",
    "\n",
    "import astropy.units as u\n",
    "from astropy.visualization import ImageNormalize, AsinhStretch\n",
    "\n",
    "from sunpy.net import Fido, attrs\n",
    "from sunpy.coordinates import get_earth, get_horizons_coord\n",
    "\n",
    "import sunraster.instr.spice"
   ]
  },
  {
   "cell_type": "markdown",
   "metadata": {},
   "source": [
    "## Searching for and Downloading Data with `Fido`"
   ]
  },
  {
   "cell_type": "code",
   "execution_count": null,
   "metadata": {
    "tags": []
   },
   "outputs": [],
   "source": [
    "fig = plt.figure(figsize=(5, 5))\n",
    "ax = plt.subplot(projection='polar')\n",
    "\n",
    "# Plot the Sun\n",
    "ax.plot(0, 0, marker='o', markersize=20, label='Sun', color='yellow')\n",
    "\n",
    "# Plot the satellite locations\n",
    "obstime = \"2022-10-24 19:00\"\n",
    "for body_name in ['Earth', 'SDO', 'Solar Orbiter']:\n",
    "    if body_name == 'Earth':\n",
    "        body = get_earth(obstime)\n",
    "    else:\n",
    "        body = get_horizons_coord(body_name, time=obstime)\n",
    "    p, = ax.plot(body.lon.to('rad'), body.radius.to(u.AU), 'o', label=body_name)\n",
    "    ax.plot([body.lon.to_value('rad'), 0], [body.radius.to_value(u.AU), 0], ls='--', color=p.get_color())\n",
    "\n",
    "ax.set_theta_zero_location(\"S\")\n",
    "ax.set_rlabel_position(90)\n",
    "ax.set_rlim(0, 1.3)\n",
    "ax.legend()"
   ]
  },
  {
   "cell_type": "markdown",
   "metadata": {},
   "source": [
    "### SDO/AIA"
   ]
  },
  {
   "cell_type": "code",
   "execution_count": null,
   "metadata": {
    "tags": []
   },
   "outputs": [],
   "source": [
    "time_range = attrs.Time(\"2022-10-24T18:55\", \"2022-10-24T19:35\")"
   ]
  },
  {
   "cell_type": "code",
   "execution_count": null,
   "metadata": {
    "tags": []
   },
   "outputs": [],
   "source": [
    "Fido.search(\n",
    "    time_range,\n",
    "    attrs.Instrument.aia,\n",
    "    attrs.Wavelength(171*u.Angstrom),\n",
    "    attrs.Sample(10*u.minute)\n",
    ")"
   ]
  },
  {
   "cell_type": "markdown",
   "metadata": {},
   "source": [
    "### Solar Orbiter--EUI and SPICE"
   ]
  },
  {
   "cell_type": "code",
   "execution_count": null,
   "metadata": {
    "tags": []
   },
   "outputs": [],
   "source": [
    "import sunpy_soar"
   ]
  },
  {
   "cell_type": "code",
   "execution_count": null,
   "metadata": {
    "tags": []
   },
   "outputs": [],
   "source": [
    "Fido.search(\n",
    "    time_range,\n",
    "    attrs.soar.Product('EUI-HRIEUV174-IMAGE') | attrs.soar.Product('EUI-FSI174-IMAGE') | attrs.soar.Product('SPICE-N-RAS'),\n",
    "    attrs.Level(2)\n",
    ")"
   ]
  },
  {
   "cell_type": "markdown",
   "metadata": {},
   "source": [
    "### DKIST"
   ]
  },
  {
   "cell_type": "code",
   "execution_count": null,
   "metadata": {
    "tags": []
   },
   "outputs": [],
   "source": [
    "import dkist.net"
   ]
  },
  {
   "cell_type": "code",
   "execution_count": null,
   "metadata": {
    "tags": []
   },
   "outputs": [],
   "source": [
    "Fido.search(\n",
    "    time_range,\n",
    "    attrs.Instrument('VISP')\n",
    ")"
   ]
  },
  {
   "cell_type": "markdown",
   "metadata": {},
   "source": [
    "### Combining them all..."
   ]
  },
  {
   "cell_type": "code",
   "execution_count": null,
   "metadata": {
    "tags": []
   },
   "outputs": [],
   "source": [
    "aia_query = attrs.Instrument.aia & attrs.Wavelength(171*u.Angstrom) & attrs.Sample(10*u.minute)"
   ]
  },
  {
   "cell_type": "code",
   "execution_count": null,
   "metadata": {
    "tags": []
   },
   "outputs": [],
   "source": [
    "solo_query = (attrs.soar.Product('EUI-HRIEUV174-IMAGE') | \n",
    "              attrs.soar.Product('EUI-FSI174-IMAGE') | \n",
    "              attrs.soar.Product('SPICE-N-RAS')) & attrs.Level(2)"
   ]
  },
  {
   "cell_type": "code",
   "execution_count": null,
   "metadata": {
    "tags": []
   },
   "outputs": [],
   "source": [
    "dkist_query = attrs.Instrument('VISP')"
   ]
  },
  {
   "cell_type": "code",
   "execution_count": null,
   "metadata": {
    "tags": []
   },
   "outputs": [],
   "source": [
    "q = Fido.search(time_range, aia_query | solo_query | dkist_query)"
   ]
  },
  {
   "cell_type": "code",
   "execution_count": null,
   "metadata": {
    "scrolled": true,
    "tags": []
   },
   "outputs": [],
   "source": [
    "q"
   ]
  },
  {
   "cell_type": "code",
   "execution_count": null,
   "metadata": {
    "tags": []
   },
   "outputs": [],
   "source": [
    "files = Fido.fetch(q, path='data/{instrument}')"
   ]
  },
  {
   "cell_type": "markdown",
   "metadata": {},
   "source": [
    "## Visualizing Fields of View"
   ]
  },
  {
   "cell_type": "code",
   "execution_count": null,
   "metadata": {
    "tags": []
   },
   "outputs": [],
   "source": [
    "import sunpy.map\n",
    "import dkist"
   ]
  },
  {
   "cell_type": "code",
   "execution_count": null,
   "metadata": {
    "tags": []
   },
   "outputs": [],
   "source": [
    "m_aia = sunpy.map.Map('data/AIA/aia_lev1_171a_2022_10_24t19_15_09_35z_image_lev1.fits')"
   ]
  },
  {
   "cell_type": "code",
   "execution_count": null,
   "metadata": {
    "tags": []
   },
   "outputs": [],
   "source": [
    "m_hri = sunpy.map.Map('data/EUI/solo_L2_eui-hrieuv174-image_20221024T191510172_V01.fits')"
   ]
  },
  {
   "cell_type": "code",
   "execution_count": null,
   "metadata": {
    "tags": []
   },
   "outputs": [],
   "source": [
    "m_fsi = sunpy.map.Map('data/EUI/solo_L2_eui-fsi174-image_20221024T191050177_V01.fits')"
   ]
  },
  {
   "cell_type": "code",
   "execution_count": null,
   "metadata": {
    "tags": []
   },
   "outputs": [],
   "source": [
    "raster_spice = sunraster.instr.spice.read_spice_l2_fits('data/SPICE/solo_L2_spice-n-ras_20221024T191303_V04_150995395-059.fits')\n",
    "spice_window = raster_spice['N IV 765 - SH - Comp 8 ... Ne VIII 770 - LH - Comp 8 (Merged)'].apply_exposure_time_correction()"
   ]
  },
  {
   "cell_type": "code",
   "execution_count": null,
   "metadata": {
    "tags": []
   },
   "outputs": [],
   "source": [
    "visp = dkist.load_dataset(\"./data/VISP/VISP_L1_20221024T185745_BKEWK_updated.asdf\")"
   ]
  },
  {
   "cell_type": "markdown",
   "metadata": {},
   "source": [
    "The FSI field of view is quite large so let's zoom in on it a bit."
   ]
  },
  {
   "cell_type": "code",
   "execution_count": null,
   "metadata": {
    "tags": []
   },
   "outputs": [],
   "source": [
    "m_fsi.peek()"
   ]
  },
  {
   "cell_type": "code",
   "execution_count": null,
   "metadata": {
    "tags": []
   },
   "outputs": [],
   "source": [
    "from astropy.coordinates import SkyCoord"
   ]
  },
  {
   "cell_type": "code",
   "execution_count": null,
   "metadata": {
    "tags": []
   },
   "outputs": [],
   "source": [
    "m_fsi_zoom = m_fsi.submap(SkyCoord(-3000,-3000, unit='arcsec', frame=m_fsi.coordinate_frame),\n",
    "                          top_right=SkyCoord(3000, 3000, unit='arcsec', frame=m_fsi.coordinate_frame))"
   ]
  },
  {
   "cell_type": "markdown",
   "metadata": {},
   "source": [
    "We can then overlay field of view of HRI to show what feature on the disk HRI is looking at."
   ]
  },
  {
   "cell_type": "code",
   "execution_count": null,
   "metadata": {
    "tags": []
   },
   "outputs": [],
   "source": [
    "fig = plt.figure(figsize=(8,8))\n",
    "ax = fig.add_subplot(projection=m_fsi_zoom)\n",
    "m_fsi_zoom.plot(axes=ax)\n",
    "m_fsi_zoom.draw_quadrangle(\n",
    "    [0,0]*u.pix,\n",
    "    top_right=u.Quantity(m_hri.dimensions),\n",
    "    label='HRI',\n",
    "    edgecolor='C0',\n",
    "    lw=2,\n",
    "    transform=ax.get_transform(m_hri.wcs),\n",
    ")"
   ]
  },
  {
   "cell_type": "markdown",
   "metadata": {},
   "source": [
    "Now, let's overlay the fields of view of our other instruments on top of this FSI image."
   ]
  },
  {
   "cell_type": "code",
   "execution_count": null,
   "metadata": {
    "tags": []
   },
   "outputs": [],
   "source": [
    "visp_frame = visp.wcs.output_frame.frames[1].reference_frame\n",
    "visp_space = visp[0, :, 500, :]\n",
    "visp_corners = visp_space.wcs.pixel_to_world([0, visp_space.data.shape[1]-1],[0, visp_space.data.shape[0]-1])[0]"
   ]
  },
  {
   "cell_type": "code",
   "execution_count": null,
   "metadata": {
    "tags": []
   },
   "outputs": [],
   "source": [
    "m_spice = sunpy.map.Map(spice_window[0,51,:,:].data, spice_window[0,51,:,:].meta)"
   ]
  },
  {
   "cell_type": "code",
   "execution_count": null,
   "metadata": {
    "tags": []
   },
   "outputs": [],
   "source": [
    "import sunpy.visualization.drawing"
   ]
  },
  {
   "cell_type": "code",
   "execution_count": null,
   "metadata": {
    "tags": []
   },
   "outputs": [],
   "source": [
    "fig = plt.figure(figsize=(8,8))\n",
    "ax = fig.add_subplot(projection=m_fsi_zoom)\n",
    "m_fsi_zoom.plot(axes=ax)\n",
    "m_fsi_zoom.draw_quadrangle(\n",
    "    [0,0]*u.pix,\n",
    "    top_right=u.Quantity(m_hri.dimensions),\n",
    "    label='HRI',\n",
    "    edgecolor='C0',\n",
    "    lw=2,\n",
    "    transform=ax.get_transform(m_hri.wcs),\n",
    ")\n",
    "m_fsi_zoom.draw_quadrangle(\n",
    "    [0,0]*u.pix,\n",
    "    top_right=u.Quantity(m_spice.dimensions),\n",
    "    label='SPICE',\n",
    "    edgecolor='C1',\n",
    "    lw=2,\n",
    "    transform=ax.get_transform(m_spice.wcs),\n",
    ")\n",
    "m_fsi_zoom.draw_quadrangle(\n",
    "    visp_corners,\n",
    "    label=\"VISP\",\n",
    "    edgecolor='C2',\n",
    "    lw=1,\n",
    "    transform=ax.get_transform(visp_frame)\n",
    ")\n",
    "sunpy.visualization.drawing.limb(ax, m_aia.observer_coordinate, rsun=m_aia.rsun_meters, color='C3', lw=2, label='AIA limb')\n",
    "ax.legend()"
   ]
  },
  {
   "cell_type": "markdown",
   "metadata": {},
   "source": [
    "Similarly, we can overlay these same fields of view on our full-disk AIA image."
   ]
  },
  {
   "cell_type": "code",
   "execution_count": null,
   "metadata": {
    "tags": []
   },
   "outputs": [],
   "source": [
    "fig = plt.figure(figsize=(8,8))\n",
    "ax = fig.add_subplot(projection=m_aia)\n",
    "m_aia.plot(axes=ax)\n",
    "m_aia.draw_quadrangle(\n",
    "    [0,0]*u.pix,\n",
    "    top_right=u.Quantity(m_hri.dimensions),\n",
    "    label='HRI',\n",
    "    edgecolor='C0',\n",
    "    lw=2,\n",
    "    transform=ax.get_transform(m_hri.wcs),\n",
    ")\n",
    "m_aia.draw_quadrangle(\n",
    "    [0,0]*u.pix,\n",
    "    top_right=u.Quantity(m_spice.dimensions),\n",
    "    label='SPICE',\n",
    "    edgecolor='C1',\n",
    "    lw=2,\n",
    "    transform=ax.get_transform(m_spice.wcs),\n",
    ")\n",
    "m_aia.draw_quadrangle(\n",
    "    visp_corners,\n",
    "    label=\"VISP\",\n",
    "    edgecolor='C2',\n",
    "    lw=1,\n",
    "    transform=ax.get_transform(visp_frame)\n",
    ")\n",
    "m_aia.draw_grid(axes=ax)\n",
    "sunpy.visualization.drawing.limb(ax, m_fsi.observer_coordinate, rsun=m_fsi.rsun_meters, color='C4', label='FSI limb', lw=2)\n",
    "ax.legend()"
   ]
  },
  {
   "cell_type": "markdown",
   "metadata": {},
   "source": [
    "## Reading in Cutouts"
   ]
  },
  {
   "cell_type": "code",
   "execution_count": null,
   "metadata": {
    "tags": []
   },
   "outputs": [],
   "source": [
    "center = SkyCoord(Tx=930*u.arcsec, Ty=630*u.arcsec, frame=m_hri.coordinate_frame)\n",
    "width = 350*u.arcsec\n",
    "height = 250*u.arcsec\n",
    "loop_fov = center.spherical_offsets_by(width/[-2, 2], height/[-2, 2])"
   ]
  },
  {
   "cell_type": "code",
   "execution_count": null,
   "metadata": {
    "tags": []
   },
   "outputs": [],
   "source": [
    "fig = plt.figure(figsize=(8,8))\n",
    "ax = fig.add_subplot(projection=m_hri)\n",
    "m_hri.plot(axes=ax)\n",
    "x_lim = ax.get_xlim()\n",
    "y_lim = ax.get_ylim()\n",
    "m_hri.draw_quadrangle(\n",
    "    loop_fov[0],\n",
    "    top_right=loop_fov[1],\n",
    "    label=\"HRI cutout\",\n",
    ")\n",
    "m_hri.draw_quadrangle(\n",
    "    [0,0]*u.pix,\n",
    "    top_right=u.Quantity(m_spice.dimensions),\n",
    "    label='SPICE FOV',\n",
    "    edgecolor='C1',\n",
    "    transform=ax.get_transform(m_spice.wcs),\n",
    ")\n",
    "m_hri.draw_quadrangle(\n",
    "    visp_corners,\n",
    "    label=\"VISP\",\n",
    "    edgecolor='C2',\n",
    "    transform=ax.get_transform(visp_frame)\n",
    ")\n",
    "ax.plot_coord(center, marker='x', color='k', ls=' ')\n",
    "ax.set_xlim(x_lim)\n",
    "ax.set_ylim(y_lim)\n",
    "plt.legend()"
   ]
  },
  {
   "cell_type": "code",
   "execution_count": null,
   "metadata": {
    "tags": []
   },
   "outputs": [],
   "source": [
    "import pathlib\n",
    "import warnings\n",
    "\n",
    "import astropy.io.fits\n",
    "import astropy.wcs\n",
    "from astropy.nddata import Cutout2D\n",
    "\n",
    "from sunpy.coordinates import propagate_with_solar_surface"
   ]
  },
  {
   "cell_type": "markdown",
   "metadata": {},
   "source": [
    "We only want to visualize the region around the loop so we don't want to wast time/memory reading in the parts of the image we won't use."
   ]
  },
  {
   "cell_type": "code",
   "execution_count": null,
   "metadata": {
    "tags": []
   },
   "outputs": [],
   "source": [
    "hri_maps = []\n",
    "for filename in sorted(pathlib.Path('./data/EUI/').glob('solo_L2_eui-hrieuv174-image_*.fits')):\n",
    "    with astropy.io.fits.open(filename) as hdul:\n",
    "        with warnings.catch_warnings():  # silence some astropy FITS warnings\n",
    "            warnings.simplefilter('ignore', astropy.wcs.FITSFixedWarning)\n",
    "            wcs = astropy.wcs.WCS(hdul[1].header)\n",
    "        with propagate_with_solar_surface():  # transform with solar rotation\n",
    "            cutout = Cutout2D(hdul[1].section,  # cutout from full-image\n",
    "                              position=center,\n",
    "                              size=(height, width),\n",
    "                              wcs=wcs)\n",
    "    hri_maps.append(sunpy.map.Map(cutout.data, cutout.wcs))  # create sunpy map"
   ]
  },
  {
   "cell_type": "code",
   "execution_count": null,
   "metadata": {
    "tags": []
   },
   "outputs": [],
   "source": [
    "hri_maps = sunpy.map.Map(hri_maps, sequence=True)"
   ]
  },
  {
   "cell_type": "code",
   "execution_count": null,
   "metadata": {
    "tags": []
   },
   "outputs": [],
   "source": [
    "ani = hri_maps.plot(cmap=m_hri.plot_settings['cmap'],\n",
    "                    norm=ImageNormalize(vmin=5e2, vmax=1.75e4,\n",
    "                                        stretch=m_hri.plot_settings['norm'].stretch))\n",
    "ani.save('eui-hri-loops.mp4', fps=15, dpi=300)"
   ]
  },
  {
   "cell_type": "code",
   "execution_count": null,
   "metadata": {
    "tags": []
   },
   "outputs": [],
   "source": [
    "from IPython.display import HTML\n",
    "\n",
    "HTML(\"\"\"\n",
    "<div align=\"middle\">\n",
    "<video width=\"60%\" controls>\n",
    "      <source src=\"eui-hri-loops.mp4\" type=\"video/mp4\">\n",
    "</video>\n",
    "</div>\"\"\")"
   ]
  },
  {
   "cell_type": "markdown",
   "metadata": {
    "tags": []
   },
   "source": [
    "We can also examine how this loop structure varies in the AIA data."
   ]
  },
  {
   "cell_type": "code",
   "execution_count": null,
   "metadata": {
    "tags": []
   },
   "outputs": [],
   "source": [
    "aia_maps = []\n",
    "for filename in sorted(pathlib.Path('data/AIA').glob('*.fits')):\n",
    "    m_aia_full = sunpy.map.Map(filename)\n",
    "    with propagate_with_solar_surface():\n",
    "        m_aia_cutout = m_aia_full.submap(hri_maps[0].bottom_left_coord, top_right=hri_maps[0].top_right_coord)\n",
    "    aia_maps.append(m_aia_cutout)\n",
    "aia_maps = sunpy.map.Map(aia_maps, sequence=True)"
   ]
  },
  {
   "cell_type": "code",
   "execution_count": null,
   "metadata": {
    "tags": []
   },
   "outputs": [],
   "source": [
    "ani = aia_maps.plot(cmap=m_aia.plot_settings['cmap'],\n",
    "                    norm=ImageNormalize(vmin=150, vmax=2e3,\n",
    "                                        stretch=m_aia.plot_settings['norm'].stretch))\n",
    "ani.save('sdo-aia-loops.mp4', fps=2, dpi=300)"
   ]
  },
  {
   "cell_type": "code",
   "execution_count": null,
   "metadata": {
    "tags": []
   },
   "outputs": [],
   "source": [
    "from IPython.display import HTML\n",
    "\n",
    "HTML(\"\"\"\n",
    "<div align=\"middle\">\n",
    "<video width=\"60%\" controls>\n",
    "      <source src=\"sdo-aia-loops.mp4\" type=\"video/mp4\">\n",
    "</video>\n",
    "</div>\"\"\")"
   ]
  },
  {
   "cell_type": "markdown",
   "metadata": {},
   "source": [
    "## Feature Identification"
   ]
  },
  {
   "cell_type": "markdown",
   "metadata": {},
   "source": [
    "There is a clear loop structure present in the above HRI image.\n",
    "We can construct a coordinate that traces this structure.\n",
    "Here, we'll do this manually, but we could imagine doing this with a point-and-click tool or a loop tracing algorithm."
   ]
  },
  {
   "cell_type": "code",
   "execution_count": null,
   "metadata": {
    "tags": []
   },
   "outputs": [],
   "source": [
    "traced_loop =  SkyCoord(\n",
    "    Tx=[786, 809, 853, 895, 955, 998, 1025, 1035, 1040, 1038, 1029]*u.arcsec,\n",
    "    Ty=[623, 662, 703, 716, 715, 697, 664, 628, 594, 567, 541]*u.arcsec,\n",
    "    frame=hri_maps[0].coordinate_frame,\n",
    ")"
   ]
  },
  {
   "cell_type": "code",
   "execution_count": null,
   "metadata": {
    "tags": []
   },
   "outputs": [],
   "source": [
    "fig = plt.figure(figsize=(10,7))\n",
    "ax = fig.add_subplot(projection=hri_maps[0].wcs)\n",
    "hri_maps[0].plot(axes=ax, **m_hri.plot_settings)\n",
    "ax.plot_coord(traced_loop)"
   ]
  },
  {
   "cell_type": "markdown",
   "metadata": {},
   "source": [
    "### EUI HRI: Time-distance Analysis"
   ]
  },
  {
   "cell_type": "markdown",
   "metadata": {},
   "source": [
    "Next, we can trace out this structure in each frame of our HRI image to create a stack plot or a \"time-distance\" plot."
   ]
  },
  {
   "cell_type": "code",
   "execution_count": null,
   "metadata": {
    "tags": []
   },
   "outputs": [],
   "source": [
    "from scipy.interpolate import interp1d"
   ]
  },
  {
   "cell_type": "code",
   "execution_count": null,
   "metadata": {
    "tags": []
   },
   "outputs": [],
   "source": [
    "traced_loop_pixelated = sunpy.map.pixelate_coord_path(hri_maps[0], traced_loop)\n",
    "traced_loop_distance = traced_loop_pixelated.separation(traced_loop_pixelated[0])"
   ]
  },
  {
   "cell_type": "code",
   "execution_count": null,
   "metadata": {
    "tags": []
   },
   "outputs": [],
   "source": [
    "intensity_stack = []\n",
    "for m in hri_maps:\n",
    "    _traced_loop_pixelated = sunpy.map.pixelate_coord_path(m, traced_loop)\n",
    "    _traced_loop_distance = _traced_loop_pixelated.separation(_traced_loop_pixelated[0])\n",
    "    intensity = sunpy.map.sample_at_coords(m, _traced_loop_pixelated)\n",
    "    f_interp = interp1d(_traced_loop_distance.to_value('arcsec'), intensity.value, fill_value='extrapolate', kind='linear')\n",
    "    intensity_interp = f_interp(traced_loop_distance.to_value('arcsec'))\n",
    "    intensity_stack.append(u.Quantity(intensity_interp, intensity.unit))\n",
    "intensity_stack = u.Quantity(intensity_stack)"
   ]
  },
  {
   "cell_type": "markdown",
   "metadata": {},
   "source": [
    "We'll then build an `NDCube` data structure with an axis for time and distance along the loop"
   ]
  },
  {
   "cell_type": "code",
   "execution_count": null,
   "metadata": {
    "tags": []
   },
   "outputs": [],
   "source": [
    "import astropy.time\n",
    "from ndcube import NDCube\n",
    "from ndcube.extra_coords import SkyCoordTableCoordinate, TimeTableCoordinate"
   ]
  },
  {
   "cell_type": "code",
   "execution_count": null,
   "metadata": {
    "tags": []
   },
   "outputs": [],
   "source": [
    "wcs = (SkyCoordTableCoordinate(traced_loop_pixelated,\n",
    "                               physical_types=(\"custom:pos.helioprojective.lon\", \"custom:pos.helioprojective.lat\")) & \n",
    "       TimeTableCoordinate(astropy.time.Time([m.date for m in hri_maps]), physical_types=\"time\", names=\"time\")\n",
    "      ).wcs"
   ]
  },
  {
   "cell_type": "code",
   "execution_count": null,
   "metadata": {
    "tags": []
   },
   "outputs": [],
   "source": [
    "hri_time_distance = NDCube(intensity_stack, wcs)"
   ]
  },
  {
   "cell_type": "code",
   "execution_count": null,
   "metadata": {
    "tags": []
   },
   "outputs": [],
   "source": [
    "plt.figure(figsize=(20,6))\n",
    "hri_time_distance.plot(plot_axes=('x','y'), cmap='sdoaia171', norm=ImageNormalize(stretch=AsinhStretch()), aspect=.2)\n",
    "plt.colorbar()"
   ]
  },
  {
   "cell_type": "markdown",
   "metadata": {},
   "source": [
    "### SPICE: Spectra along loop"
   ]
  },
  {
   "cell_type": "markdown",
   "metadata": {},
   "source": [
    "What does this look like in the SPICE data?\n",
    "We can overlay this same loop structure on top of the SPICE raster."
   ]
  },
  {
   "cell_type": "code",
   "execution_count": null,
   "metadata": {
    "tags": []
   },
   "outputs": [],
   "source": [
    "fig = plt.figure(figsize=(8,10))\n",
    "ax = fig.add_subplot(projection=spice_window[0,51,:,:].wcs)\n",
    "spice_window[0,51,:,:].plot(axes=ax,\n",
    "                            aspect='auto',\n",
    "                            cmap='irissjiFUV',\n",
    "                            norm=ImageNormalize(stretch=AsinhStretch()))\n",
    "with propagate_with_solar_surface():\n",
    "    pix = spice_window[0,51,:,:].wcs.world_to_pixel(traced_loop, traced_loop.obstime)\n",
    "ax.plot(*pix)"
   ]
  },
  {
   "cell_type": "code",
   "execution_count": null,
   "metadata": {
    "tags": []
   },
   "outputs": [],
   "source": [
    "m_spice_adjust = m_spice.shift_reference_coord(-38*u.arcsec, 20*u.arcsec)"
   ]
  },
  {
   "cell_type": "code",
   "execution_count": null,
   "metadata": {
    "tags": []
   },
   "outputs": [],
   "source": [
    "fig = plt.figure(figsize=(8,10))\n",
    "ax = fig.add_subplot(projection=m_spice_adjust)\n",
    "m_spice_adjust.plot(axes=ax,\n",
    "                    aspect='auto',\n",
    "                    cmap='irissjiFUV',\n",
    "                    norm=ImageNormalize(stretch=AsinhStretch()))\n",
    "with propagate_with_solar_surface():\n",
    "    pix = m_spice_adjust.wcs.world_to_pixel(traced_loop)\n",
    "ax.plot(*pix)"
   ]
  },
  {
   "cell_type": "markdown",
   "metadata": {},
   "source": [
    "Then, we can extract the spectra along each point of the loop we designated above."
   ]
  },
  {
   "cell_type": "code",
   "execution_count": null,
   "metadata": {
    "tags": []
   },
   "outputs": [],
   "source": [
    "from ndcube.extra_coords import QuantityTableCoordinate"
   ]
  },
  {
   "cell_type": "code",
   "execution_count": null,
   "metadata": {
    "tags": []
   },
   "outputs": [],
   "source": [
    "# Use the adjusted map to extract the intensity\n",
    "traced_loop_pixelated = sunpy.map.pixelate_coord_path(m_spice_adjust, traced_loop)\n",
    "array_indices = m_spice_adjust.wcs.world_to_array_index(sunpy.map.pixelate_coord_path(m_spice_adjust, traced_loop_pixelated))\n",
    "intensity = spice_window[0].data[:, array_indices[0], array_indices[1]]\n",
    "# Construct the world coordinate system\n",
    "wcs = (SkyCoordTableCoordinate(traced_loop_pixelated,\n",
    "                               physical_types=(\"custom:pos.helioprojective.lon\", \"custom:pos.helioprojective.lat\")) & \n",
    "       QuantityTableCoordinate(spice_window[0].axis_world_coords_values(\"em.wl\").em_wl,\n",
    "                               physical_types=\"em.wl\")).wcs\n",
    "# Build an NDCube\n",
    "spice_intensity =  NDCube(intensity, wcs)"
   ]
  },
  {
   "cell_type": "code",
   "execution_count": null,
   "metadata": {
    "tags": []
   },
   "outputs": [],
   "source": [
    "fig = plt.figure(figsize=(6,8))\n",
    "ax = spice_intensity.plot(aspect=\"auto\", cmap='irissjiFUV', plot_axes=('x','y'))\n",
    "wave = ax.coords[2]\n",
    "wave.set_format_unit(u.AA)\n",
    "wave.set_major_formatter(\"x.x\")"
   ]
  },
  {
   "cell_type": "markdown",
   "metadata": {},
   "source": [
    "### DKIST/VISP: Extracting a spectra"
   ]
  },
  {
   "cell_type": "markdown",
   "metadata": {},
   "source": [
    "Finally, let's extract a VISP spectra for one of the points along our loop."
   ]
  },
  {
   "cell_type": "code",
   "execution_count": null,
   "metadata": {
    "tags": []
   },
   "outputs": [],
   "source": [
    "fig = plt.figure(figsize=(10, 11))\n",
    "visp.plot(fig=fig)"
   ]
  },
  {
   "cell_type": "code",
   "execution_count": null,
   "metadata": {
    "tags": []
   },
   "outputs": [],
   "source": [
    "from astropy.time import Time\n",
    "from astropy.visualization import quantity_support\n",
    "quantity_support()"
   ]
  },
  {
   "cell_type": "code",
   "execution_count": null,
   "metadata": {
    "tags": []
   },
   "outputs": [],
   "source": [
    "center_hgs = center.transform_to(\"heliographic_stonyhurst\")"
   ]
  },
  {
   "cell_type": "code",
   "execution_count": null,
   "metadata": {
    "tags": []
   },
   "outputs": [],
   "source": [
    "visp_array_coords = visp[0,:,0,:].wcs.world_to_array_index(center, Time(\"2022-10-24T18:57:45.634\"))"
   ]
  },
  {
   "cell_type": "code",
   "execution_count": null,
   "metadata": {
    "tags": []
   },
   "outputs": [],
   "source": [
    "fig = plt.figure(figsize=(11, 6))\n",
    "ax = visp[0, visp_array_coords[0], :, visp_array_coords[1]].plot()\n",
    "_ = ax.set_title(f\"VISP Spectra at HGS lon={center_hgs.lon:2.2f} lat={center_hgs.lat:2.2f}\")"
   ]
  },
  {
   "cell_type": "code",
   "execution_count": null,
   "metadata": {
    "tags": []
   },
   "outputs": [],
   "source": [
    "spice_array_coords = m_spice.wcs.world_to_array_index(center)"
   ]
  },
  {
   "cell_type": "code",
   "execution_count": null,
   "metadata": {
    "tags": []
   },
   "outputs": [],
   "source": [
    "visp_wave = visp.axis_world_coords(\"em.wl\")[0]\n",
    "spice_wave = spice_window.axis_world_coords(\"em.wl\")[0].to(u.nm)"
   ]
  },
  {
   "cell_type": "code",
   "execution_count": null,
   "metadata": {
    "tags": []
   },
   "outputs": [],
   "source": [
    "fig, (ax, ax2) = plt.subplots(1, 2, facecolor='w', figsize=(11, 7))\n",
    "\n",
    "ax.plot(spice_wave, spice_window[0].data[:, spice_array_coords[0], spice_array_coords[1]], color=\"C0\")\n",
    "ax2.plot(visp_wave, visp[0, visp_array_coords[0], :, visp_array_coords[1]].data, color=\"C1\")\n",
    "\n",
    "ax.set_xlim(np.min(spice_wave), np.max(spice_wave)-0.01*u.nm)\n",
    "ax2.set_xlim(np.min(visp_wave), np.max(visp_wave))\n",
    "\n",
    "ax.set_ylim(0.11, 0.25)\n",
    "\n",
    "ax.set_ylabel(f\"SPICE Intensity [{spice_window.unit}]\")\n",
    "ax2.set_ylabel(f\"VISP Intensity [{visp.unit}]\")\n",
    "\n",
    "# hide the spines between ax and ax2\n",
    "ax.spines['right'].set_visible(False)\n",
    "ax2.spines['left'].set_visible(False)\n",
    "ax.yaxis.tick_left()\n",
    "ax.tick_params(labelright=False)\n",
    "ax2.yaxis.tick_right()\n",
    "ax2.tick_params(labelright=True)\n",
    "ax2.yaxis.set_label_position(\"right\")\n",
    "\n",
    "d = .01  # how big to make the diagonal lines in axes coordinates\n",
    "# arguments to pass plot, just so we don't keep repeating them\n",
    "kwargs = dict(transform=ax.transAxes, color='k', clip_on=False)\n",
    "ax.plot((1-d, 1+d), (-d, +d), **kwargs)\n",
    "ax.plot((1-d, 1+d), (1-d, 1+d), **kwargs)\n",
    "\n",
    "kwargs.update(transform=ax2.transAxes)  # switch to the bottom axes\n",
    "ax2.plot((-d, +d), (1-d, 1+d), **kwargs)\n",
    "ax2.plot((-d, +d), (-d, +d), **kwargs)\n",
    "\n",
    "_ = fig.suptitle(f\"SPICE and VISP spectra at HGS lon={center_hgs.lon:2.2f} lat={center_hgs.lat:2.2f}\")\n",
    "fig.tight_layout()"
   ]
  },
  {
   "cell_type": "code",
   "execution_count": null,
   "metadata": {},
   "outputs": [],
   "source": []
  }
 ],
 "metadata": {
  "kernelspec": {
   "display_name": "Python [conda env:sunpy-spd-2023]",
   "language": "python",
   "name": "conda-env-sunpy-spd-2023-py"
  },
  "language_info": {
   "codemirror_mode": {
    "name": "ipython",
    "version": 3
   },
   "file_extension": ".py",
   "mimetype": "text/x-python",
   "name": "python",
   "nbconvert_exporter": "python",
   "pygments_lexer": "ipython3",
   "version": "3.11.4"
  }
 },
 "nbformat": 4,
 "nbformat_minor": 4
}
